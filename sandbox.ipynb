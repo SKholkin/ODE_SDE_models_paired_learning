{
 "cells": [
  {
   "cell_type": "markdown",
   "id": "4fc5c040",
   "metadata": {},
   "source": [
    "## Imports"
   ]
  },
  {
   "cell_type": "code",
   "execution_count": 1,
   "id": "bdfbcf83",
   "metadata": {},
   "outputs": [],
   "source": [
    "import torch\n",
    "import torchvision\n",
    "import torch.nn as nn\n",
    "\n",
    "import torchvision.datasets\n",
    "\n",
    "import torchvision.transforms as tforms\n",
    "\n",
    "import matplotlib.pyplot as plt\n",
    "import numpy as np\n",
    "\n",
    "from tqdm import tqdm as tqdm"
   ]
  },
  {
   "cell_type": "markdown",
   "id": "d83fd021",
   "metadata": {},
   "source": [
    "## Data preparation"
   ]
  },
  {
   "cell_type": "code",
   "execution_count": 2,
   "id": "aad5d854",
   "metadata": {},
   "outputs": [],
   "source": [
    "\n",
    "channels = 3\n",
    "im_size = 16\n",
    "\n",
    "mnist_transform = tforms.Compose([\n",
    "        tforms.Resize(im_size),\n",
    "        tforms.ToTensor(),\n",
    "        tforms.Lambda(lambda x: torch.cat([x, x, x], 0)),\n",
    "        tforms.Normalize([0.5],[0.5])\n",
    "    ])\n",
    "\n",
    "train_regular_mnist = torchvision.datasets.MNIST(root=\"./data\", train=True, transform=mnist_transform, download=True)\n",
    "test_regular_mnist = torchvision.datasets.MNIST(root=\"./data\", train=False, transform=mnist_transform, download=True)\n",
    "\n",
    "\n",
    "def random_color(im):\n",
    "    hue = 360*np.random.rand()\n",
    "    d = (im *(hue%60)/60)\n",
    "    im_min, im_inc, im_dec = torch.zeros_like(im), d, im - d\n",
    "    c_im = torch.zeros((3, im.shape[1], im.shape[2]))\n",
    "    H = round(hue/60) % 6    \n",
    "    cmap = [[0, 3, 2], [2, 0, 3], [1, 0, 3], [1, 2, 0], [3, 1, 0], [0, 1, 2]]\n",
    "    return torch.cat((im, im_min, im_dec, im_inc), dim=0)[cmap[H]]\n",
    "\n",
    "colored_transform = tforms.Compose([\n",
    "    tforms.Resize(im_size),\n",
    "    tforms.ToTensor(),\n",
    "    random_color,\n",
    "    tforms.Normalize([0.5],[0.5])\n",
    "])\n",
    "\n",
    "train_colored_mnist = torchvision.datasets.MNIST(root=\"./data\", train=True, transform=colored_transform, download=True)\n",
    "test_colored_mnist = torchvision.datasets.MNIST(root=\"./data\", train=False, transform=colored_transform, download=True)\n"
   ]
  },
  {
   "cell_type": "code",
   "execution_count": 3,
   "id": "e8af67a4",
   "metadata": {},
   "outputs": [
    {
     "name": "stderr",
     "output_type": "stream",
     "text": [
      "Clipping input data to the valid range for imshow with RGB data ([0..1] for floats or [0..255] for integers).\n"
     ]
    },
    {
     "data": {
      "text/plain": [
       "<matplotlib.image.AxesImage at 0x7f22d6944640>"
      ]
     },
     "execution_count": 3,
     "metadata": {},
     "output_type": "execute_result"
    },
    {
     "data": {
      "image/png": "[encoded data removed]",
      "text/plain": [
       "<Figure size 640x480 with 1 Axes>"
      ]
     },
     "metadata": {},
     "output_type": "display_data"
    }
   ],
   "source": [
    "plt.imshow(train_colored_mnist[0][0].permute([1, 2, 0]), cmap='gray')"
   ]
  },
  {
   "cell_type": "markdown",
   "id": "4800d5db",
   "metadata": {},
   "source": [
    "## Model"
   ]
  },
  {
   "cell_type": "code",
   "execution_count": 4,
   "id": "bdb36c2a",
   "metadata": {},
   "outputs": [],
   "source": [
    "from unet import UNet\n",
    "\n",
    "class FlowMathcing(nn.Module):\n",
    "    def __init__(self):\n",
    "        super().__init__()\n",
    "        # CNN + positional embeding time conditioning\n",
    "        # can use NN from MNIST DDPM\n",
    "        self.vector_net = UNet(channels, base_channels=128, channel_mults=(1, 2, 4))\n",
    "        self.euler_dt = 0.01\n",
    "        \n",
    "    def forward(self, x_0):\n",
    "        # solve forward ODE via Euler or torchdiffeq solver\n",
    "        x_t = x_0\n",
    "        dt = 0.001\n",
    "        \n",
    "        t_range = tqdm(torch.arange(0, 1, step=self.euler_dt))\n",
    "        \n",
    "        for t in t_range:\n",
    "            x_t = x_t + self.vector_net(x_t, t) * self.euler_dt\n",
    "            \n",
    "        return x_t\n",
    "    \n",
    "    def step(self, x_0, x_1, t):\n",
    "        t = t.reshape([-1, 1, 1, 1])\n",
    "        x_t = t * x_1 + (1 - t) * x_0\n",
    "        x_t_hat = self.vector_net(x_t, t)\n",
    "        return self.loss(x_t_hat, x_0, x_1, t).mean()\n",
    "    \n",
    "    def loss(self, x_t_hat, x_0, x_1, t):\n",
    "        return torch.norm((x_t_hat - (x_1 - x_0)).reshape([x_0.shape[0], -1]), dim=-1)\n",
    "    "
   ]
  },
  {
   "cell_type": "code",
   "execution_count": 5,
   "id": "7b6b5d17",
   "metadata": {},
   "outputs": [
    {
     "data": {
      "text/plain": [
       "torch.Size([64, 3, 16, 16])"
      ]
     },
     "execution_count": 5,
     "metadata": {},
     "output_type": "execute_result"
    }
   ],
   "source": [
    "model_unet = UNet(channels, base_channels=128, channel_mults=(1, 2, 4))\n",
    "\n",
    "train_colored_mnist_loader = torch.utils.data.DataLoader(train_colored_mnist, batch_size=64, shuffle=True)\n",
    "\n",
    "samples_input = next(iter(train_colored_mnist_loader))[0]\n",
    "\n",
    "model_unet(samples_input, torch.zeros([64])).shape"
   ]
  },
  {
   "cell_type": "code",
   "execution_count": 27,
   "id": "ff993b93",
   "metadata": {},
   "outputs": [
    {
     "name": "stderr",
     "output_type": "stream",
     "text": [
      "100%|█████████████████████████████████████████████████████████████████████████████████████████████████████████████████████████████████████████████████████████████████████████| 100/100 [00:01<00:00, 79.47it/s]\n"
     ]
    }
   ],
   "source": [
    "# fm_model = FlowMathcing()\n",
    "with torch.no_grad():\n",
    "    sample_output = fm_model(sample_regular_mnist.to('cuda:1'))"
   ]
  },
  {
   "cell_type": "code",
   "execution_count": 40,
   "id": "a3750452",
   "metadata": {},
   "outputs": [
    {
     "name": "stderr",
     "output_type": "stream",
     "text": [
      "Clipping input data to the valid range for imshow with RGB data ([0..1] for floats or [0..255] for integers).\n"
     ]
    },
    {
     "data": {
      "text/plain": [
       "<matplotlib.image.AxesImage at 0x7f2298d24d00>"
      ]
     },
     "execution_count": 40,
     "metadata": {},
     "output_type": "execute_result"
    },
    {
     "data": {
      "image/png": "[encoded data removed]",
      "text/plain": [
       "<Figure size 640x480 with 1 Axes>"
      ]
     },
     "metadata": {},
     "output_type": "display_data"
    }
   ],
   "source": [
    "plt.imshow(sample_regular_mnist[15].detach().cpu().permute([1, 2, 0]), cmap='gray')"
   ]
  },
  {
   "cell_type": "code",
   "execution_count": 41,
   "id": "5f302d4f",
   "metadata": {},
   "outputs": [
    {
     "name": "stderr",
     "output_type": "stream",
     "text": [
      "Clipping input data to the valid range for imshow with RGB data ([0..1] for floats or [0..255] for integers).\n"
     ]
    },
    {
     "data": {
      "text/plain": [
       "<matplotlib.image.AxesImage at 0x7f2298dcdbd0>"
      ]
     },
     "execution_count": 41,
     "metadata": {},
     "output_type": "execute_result"
    },
    {
     "data": {
      "image/png": "[encoded data removed]",
      "text/plain": [
       "<Figure size 640x480 with 1 Axes>"
      ]
     },
     "metadata": {},
     "output_type": "display_data"
    }
   ],
   "source": [
    "plt.imshow(sample_output[15].detach().cpu().permute([1, 2, 0]), cmap='gray')"
   ]
  },
  {
   "cell_type": "markdown",
   "id": "650d1403",
   "metadata": {},
   "source": [
    "## Training"
   ]
  },
  {
   "cell_type": "code",
   "execution_count": 24,
   "id": "2abed32a",
   "metadata": {},
   "outputs": [],
   "source": [
    "device = 'cuda:1'\n",
    "batch_size = 64\n",
    "epochs = 10\n",
    "\n",
    "train_colored_mnist_loader = torch.utils.data.DataLoader(train_colored_mnist, batch_size=batch_size, shuffle=True, drop_last=True)\n",
    "train_regular_mnist_loader = torch.utils.data.DataLoader(train_regular_mnist, batch_size=batch_size, shuffle=True, drop_last=True)\n",
    "\n",
    "fm_model = FlowMathcing()\n",
    "fm_model.load_state_dict(torch.load('fm_model_colored_mnist_16.pth'))\n",
    "\n",
    "fm_model.to(device)\n",
    "\n",
    "opt = torch.optim.AdamW(fm_model.parameters(), lr=1e-3)\n",
    "\n",
    "from optimal_transport import OTPlanSampler\n",
    "\n",
    "def create_pairs_OT(batch_x_0, batch_x_1):\n",
    "    ot_sampler = OTPlanSampler(method=\"exact\")\n",
    "    x0, x1 = ot_sampler.sample_plan(batch_x_0, batch_x_1)\n",
    "    return x0, x1\n",
    "\n",
    "sample_regular_mnist = next(iter(train_regular_mnist_loader))[0]\n",
    "sample_colored_mnist = next(iter(train_colored_mnist_loader))[0]\n",
    "\n"
   ]
  },
  {
   "cell_type": "code",
   "execution_count": null,
   "id": "0a776b9f",
   "metadata": {},
   "outputs": [],
   "source": []
  },
  {
   "cell_type": "code",
   "execution_count": 25,
   "id": "e49f6d71",
   "metadata": {},
   "outputs": [],
   "source": [
    "# torch.save(fm_model.state_dict(), 'fm_model_colored_mnist_16.pth')"
   ]
  },
  {
   "cell_type": "code",
   "execution_count": 26,
   "id": "168350bb",
   "metadata": {},
   "outputs": [
    {
     "name": "stderr",
     "output_type": "stream",
     "text": [
      "\n",
      "0it [03:31, ?it/s]\u001b[A\n"
     ]
    },
    {
     "name": "stdout",
     "output_type": "stream",
     "text": [
      "2.2417259216308594\n",
      "4.808194160461426\n",
      "3.5750505924224854\n",
      "3.1717681884765625\n",
      "3.0730581283569336\n",
      "2.4383702278137207\n",
      "2.2496442794799805\n",
      "2.2391257286071777\n",
      "2.1441030502319336\n",
      "2.775629997253418\n",
      "1.898245096206665\n",
      "1.7123944759368896\n",
      "2.3411240577697754\n",
      "2.0101263523101807\n",
      "2.100388288497925\n",
      "2.247016429901123\n",
      "2.0478134155273438\n",
      "1.9762907028198242\n",
      "1.9743558168411255\n",
      "1.7866491079330444\n",
      "1.8949732780456543\n",
      "1.7999516725540161\n",
      "2.2652463912963867\n",
      "1.8849143981933594\n",
      "1.7542672157287598\n",
      "2.240236759185791\n",
      "2.21689510345459\n",
      "2.029503345489502\n",
      "2.1066043376922607\n",
      "1.9066966772079468\n",
      "2.189350128173828\n",
      "1.944154143333435\n",
      "1.9494223594665527\n",
      "2.1364264488220215\n",
      "2.5766611099243164\n",
      "2.261651039123535\n",
      "2.15669322013855\n",
      "2.280797243118286\n",
      "2.0761492252349854\n",
      "2.3577775955200195\n",
      "2.2417662143707275\n",
      "2.196549892425537\n",
      "1.7116761207580566\n",
      "1.968125581741333\n",
      "2.027777910232544\n",
      "2.587977886199951\n",
      "1.9732778072357178\n",
      "2.2562801837921143\n",
      "2.107107639312744\n",
      "1.980583667755127\n",
      "2.0066163539886475\n",
      "2.0449929237365723\n",
      "1.7566590309143066\n",
      "2.16055965423584\n",
      "2.16681170463562\n",
      "1.8799889087677002\n",
      "1.9450374841690063\n",
      "1.878401279449463\n",
      "1.5259571075439453\n",
      "2.29095721244812\n",
      "1.59641695022583\n",
      "1.6798714399337769\n",
      "2.5070581436157227\n",
      "2.088984489440918\n",
      "2.1825854778289795\n",
      "1.779579997062683\n",
      "2.505082130432129\n",
      "1.804749846458435\n",
      "1.6603944301605225\n",
      "1.982377529144287\n",
      "1.5741344690322876\n",
      "1.4232239723205566\n",
      "2.2348904609680176\n",
      "2.1238598823547363\n",
      "2.002074718475342\n",
      "1.822479486465454\n",
      "2.089625597000122\n",
      "2.134026050567627\n",
      "2.470470428466797\n",
      "1.9557921886444092\n",
      "1.9190282821655273\n",
      "2.070281505584717\n",
      "1.829607605934143\n",
      "2.304955244064331\n",
      "1.6343401670455933\n",
      "1.7813019752502441\n",
      "1.62862229347229\n",
      "1.8894973993301392\n",
      "1.4342966079711914\n",
      "1.8107978105545044\n",
      "1.6159218549728394\n",
      "1.4161343574523926\n",
      "1.3320786952972412\n",
      "2.0604159832000732\n",
      "1.6350492238998413\n",
      "1.8005059957504272\n",
      "1.9177236557006836\n",
      "1.514421820640564\n",
      "1.85957932472229\n",
      "1.8710768222808838\n",
      "1.708898663520813\n",
      "1.8472498655319214\n",
      "2.0312886238098145\n"
     ]
    },
    {
     "ename": "KeyboardInterrupt",
     "evalue": "",
     "output_type": "error",
     "traceback": [
      "\u001b[0;31m---------------------------------------------------------------------------\u001b[0m",
      "\u001b[0;31mKeyboardInterrupt\u001b[0m                         Traceback (most recent call last)",
      "Cell \u001b[0;32mIn[26], line 5\u001b[0m\n\u001b[1;32m      2\u001b[0m n_epochs \u001b[38;5;241m=\u001b[39m \u001b[38;5;241m10\u001b[39m\n\u001b[1;32m      4\u001b[0m \u001b[38;5;28;01mfor\u001b[39;00m epoch \u001b[38;5;129;01min\u001b[39;00m \u001b[38;5;28mrange\u001b[39m(n_epochs):\n\u001b[0;32m----> 5\u001b[0m     \u001b[38;5;28;01mfor\u001b[39;00m itr, item \u001b[38;5;129;01min\u001b[39;00m \u001b[38;5;28menumerate\u001b[39m(\u001b[38;5;28mzip\u001b[39m(\u001b[38;5;28miter\u001b[39m(train_regular_mnist_loader), \u001b[38;5;28miter\u001b[39m(train_colored_mnist_loader))):\n\u001b[1;32m      6\u001b[0m     \u001b[38;5;66;03m#     print(item)[0]\u001b[39;00m\n\u001b[1;32m      7\u001b[0m         ((x_0, y_0), (x_1, y_1)) \u001b[38;5;241m=\u001b[39m item\n\u001b[1;32m      8\u001b[0m         x_0, x_1 \u001b[38;5;241m=\u001b[39m x_0\u001b[38;5;241m.\u001b[39mto(device), x_1\u001b[38;5;241m.\u001b[39mto(device)\n",
      "File \u001b[0;32m/opt/conda/lib/python3.10/site-packages/torch/utils/data/dataloader.py:633\u001b[0m, in \u001b[0;36m_BaseDataLoaderIter.__next__\u001b[0;34m(self)\u001b[0m\n\u001b[1;32m    630\u001b[0m \u001b[38;5;28;01mif\u001b[39;00m \u001b[38;5;28mself\u001b[39m\u001b[38;5;241m.\u001b[39m_sampler_iter \u001b[38;5;129;01mis\u001b[39;00m \u001b[38;5;28;01mNone\u001b[39;00m:\n\u001b[1;32m    631\u001b[0m     \u001b[38;5;66;03m# TODO(https://github.com/pytorch/pytorch/issues/76750)\u001b[39;00m\n\u001b[1;32m    632\u001b[0m     \u001b[38;5;28mself\u001b[39m\u001b[38;5;241m.\u001b[39m_reset()  \u001b[38;5;66;03m# type: ignore[call-arg]\u001b[39;00m\n\u001b[0;32m--> 633\u001b[0m data \u001b[38;5;241m=\u001b[39m \u001b[38;5;28;43mself\u001b[39;49m\u001b[38;5;241;43m.\u001b[39;49m\u001b[43m_next_data\u001b[49m\u001b[43m(\u001b[49m\u001b[43m)\u001b[49m\n\u001b[1;32m    634\u001b[0m \u001b[38;5;28mself\u001b[39m\u001b[38;5;241m.\u001b[39m_num_yielded \u001b[38;5;241m+\u001b[39m\u001b[38;5;241m=\u001b[39m \u001b[38;5;241m1\u001b[39m\n\u001b[1;32m    635\u001b[0m \u001b[38;5;28;01mif\u001b[39;00m \u001b[38;5;28mself\u001b[39m\u001b[38;5;241m.\u001b[39m_dataset_kind \u001b[38;5;241m==\u001b[39m _DatasetKind\u001b[38;5;241m.\u001b[39mIterable \u001b[38;5;129;01mand\u001b[39;00m \\\n\u001b[1;32m    636\u001b[0m         \u001b[38;5;28mself\u001b[39m\u001b[38;5;241m.\u001b[39m_IterableDataset_len_called \u001b[38;5;129;01mis\u001b[39;00m \u001b[38;5;129;01mnot\u001b[39;00m \u001b[38;5;28;01mNone\u001b[39;00m \u001b[38;5;129;01mand\u001b[39;00m \\\n\u001b[1;32m    637\u001b[0m         \u001b[38;5;28mself\u001b[39m\u001b[38;5;241m.\u001b[39m_num_yielded \u001b[38;5;241m>\u001b[39m \u001b[38;5;28mself\u001b[39m\u001b[38;5;241m.\u001b[39m_IterableDataset_len_called:\n",
      "File \u001b[0;32m/opt/conda/lib/python3.10/site-packages/torch/utils/data/dataloader.py:677\u001b[0m, in \u001b[0;36m_SingleProcessDataLoaderIter._next_data\u001b[0;34m(self)\u001b[0m\n\u001b[1;32m    675\u001b[0m \u001b[38;5;28;01mdef\u001b[39;00m \u001b[38;5;21m_next_data\u001b[39m(\u001b[38;5;28mself\u001b[39m):\n\u001b[1;32m    676\u001b[0m     index \u001b[38;5;241m=\u001b[39m \u001b[38;5;28mself\u001b[39m\u001b[38;5;241m.\u001b[39m_next_index()  \u001b[38;5;66;03m# may raise StopIteration\u001b[39;00m\n\u001b[0;32m--> 677\u001b[0m     data \u001b[38;5;241m=\u001b[39m \u001b[38;5;28;43mself\u001b[39;49m\u001b[38;5;241;43m.\u001b[39;49m\u001b[43m_dataset_fetcher\u001b[49m\u001b[38;5;241;43m.\u001b[39;49m\u001b[43mfetch\u001b[49m\u001b[43m(\u001b[49m\u001b[43mindex\u001b[49m\u001b[43m)\u001b[49m  \u001b[38;5;66;03m# may raise StopIteration\u001b[39;00m\n\u001b[1;32m    678\u001b[0m     \u001b[38;5;28;01mif\u001b[39;00m \u001b[38;5;28mself\u001b[39m\u001b[38;5;241m.\u001b[39m_pin_memory:\n\u001b[1;32m    679\u001b[0m         data \u001b[38;5;241m=\u001b[39m _utils\u001b[38;5;241m.\u001b[39mpin_memory\u001b[38;5;241m.\u001b[39mpin_memory(data, \u001b[38;5;28mself\u001b[39m\u001b[38;5;241m.\u001b[39m_pin_memory_device)\n",
      "File \u001b[0;32m/opt/conda/lib/python3.10/site-packages/torch/utils/data/_utils/fetch.py:51\u001b[0m, in \u001b[0;36m_MapDatasetFetcher.fetch\u001b[0;34m(self, possibly_batched_index)\u001b[0m\n\u001b[1;32m     49\u001b[0m         data \u001b[38;5;241m=\u001b[39m \u001b[38;5;28mself\u001b[39m\u001b[38;5;241m.\u001b[39mdataset\u001b[38;5;241m.\u001b[39m__getitems__(possibly_batched_index)\n\u001b[1;32m     50\u001b[0m     \u001b[38;5;28;01melse\u001b[39;00m:\n\u001b[0;32m---> 51\u001b[0m         data \u001b[38;5;241m=\u001b[39m [\u001b[38;5;28mself\u001b[39m\u001b[38;5;241m.\u001b[39mdataset[idx] \u001b[38;5;28;01mfor\u001b[39;00m idx \u001b[38;5;129;01min\u001b[39;00m possibly_batched_index]\n\u001b[1;32m     52\u001b[0m \u001b[38;5;28;01melse\u001b[39;00m:\n\u001b[1;32m     53\u001b[0m     data \u001b[38;5;241m=\u001b[39m \u001b[38;5;28mself\u001b[39m\u001b[38;5;241m.\u001b[39mdataset[possibly_batched_index]\n",
      "File \u001b[0;32m/opt/conda/lib/python3.10/site-packages/torch/utils/data/_utils/fetch.py:51\u001b[0m, in \u001b[0;36m<listcomp>\u001b[0;34m(.0)\u001b[0m\n\u001b[1;32m     49\u001b[0m         data \u001b[38;5;241m=\u001b[39m \u001b[38;5;28mself\u001b[39m\u001b[38;5;241m.\u001b[39mdataset\u001b[38;5;241m.\u001b[39m__getitems__(possibly_batched_index)\n\u001b[1;32m     50\u001b[0m     \u001b[38;5;28;01melse\u001b[39;00m:\n\u001b[0;32m---> 51\u001b[0m         data \u001b[38;5;241m=\u001b[39m [\u001b[38;5;28;43mself\u001b[39;49m\u001b[38;5;241;43m.\u001b[39;49m\u001b[43mdataset\u001b[49m\u001b[43m[\u001b[49m\u001b[43midx\u001b[49m\u001b[43m]\u001b[49m \u001b[38;5;28;01mfor\u001b[39;00m idx \u001b[38;5;129;01min\u001b[39;00m possibly_batched_index]\n\u001b[1;32m     52\u001b[0m \u001b[38;5;28;01melse\u001b[39;00m:\n\u001b[1;32m     53\u001b[0m     data \u001b[38;5;241m=\u001b[39m \u001b[38;5;28mself\u001b[39m\u001b[38;5;241m.\u001b[39mdataset[possibly_batched_index]\n",
      "File \u001b[0;32m/opt/conda/lib/python3.10/site-packages/torchvision/datasets/mnist.py:147\u001b[0m, in \u001b[0;36mMNIST.__getitem__\u001b[0;34m(self, index)\u001b[0m\n\u001b[1;32m    144\u001b[0m \u001b[38;5;28;01mif\u001b[39;00m \u001b[38;5;28mself\u001b[39m\u001b[38;5;241m.\u001b[39mtransform \u001b[38;5;129;01mis\u001b[39;00m \u001b[38;5;129;01mnot\u001b[39;00m \u001b[38;5;28;01mNone\u001b[39;00m:\n\u001b[1;32m    145\u001b[0m     img \u001b[38;5;241m=\u001b[39m \u001b[38;5;28mself\u001b[39m\u001b[38;5;241m.\u001b[39mtransform(img)\n\u001b[0;32m--> 147\u001b[0m \u001b[38;5;28;01mif\u001b[39;00m \u001b[38;5;28mself\u001b[39m\u001b[38;5;241m.\u001b[39mtarget_transform \u001b[38;5;129;01mis\u001b[39;00m \u001b[38;5;129;01mnot\u001b[39;00m \u001b[38;5;28;01mNone\u001b[39;00m:\n\u001b[1;32m    148\u001b[0m     target \u001b[38;5;241m=\u001b[39m \u001b[38;5;28mself\u001b[39m\u001b[38;5;241m.\u001b[39mtarget_transform(target)\n\u001b[1;32m    150\u001b[0m \u001b[38;5;28;01mreturn\u001b[39;00m img, target\n",
      "\u001b[0;31mKeyboardInterrupt\u001b[0m: "
     ]
    }
   ],
   "source": [
    "pbar = tqdm(enumerate(zip(iter(train_regular_mnist_loader), iter(train_colored_mnist_loader))))\n",
    "n_epochs = 10\n",
    "\n",
    "for epoch in range(n_epochs):\n",
    "    for itr, item in enumerate(zip(iter(train_regular_mnist_loader), iter(train_colored_mnist_loader))):\n",
    "    #     print(item)[0]\n",
    "        ((x_0, y_0), (x_1, y_1)) = item\n",
    "        x_0, x_1 = x_0.to(device), x_1.to(device)\n",
    "        x0, x1 = create_pairs_OT(x_0, x_1)\n",
    "        t = torch.rand(batch_size).to(device)\n",
    "        loss = fm_model.step(x_0, x_1, t)\n",
    "\n",
    "        opt.zero_grad()\n",
    "        loss.backward()\n",
    "        opt.step()\n",
    "\n",
    "        if itr % 10 == 0:\n",
    "            print(loss.item())\n",
    "\n",
    "    #     pbar.set_description(f'Loss: {loss.item()}')\n"
   ]
  },
  {
   "cell_type": "code",
   "execution_count": 74,
   "id": "683bd945",
   "metadata": {},
   "outputs": [],
   "source": [
    "\n",
    "x0, x1 = create_pairs_OT(sample_regular_mnist, sample_colored_mnist)"
   ]
  },
  {
   "cell_type": "code",
   "execution_count": 77,
   "id": "e555aed4",
   "metadata": {},
   "outputs": [
    {
     "name": "stderr",
     "output_type": "stream",
     "text": [
      "Clipping input data to the valid range for imshow with RGB data ([0..1] for floats or [0..255] for integers).\n"
     ]
    },
    {
     "data": {
      "text/plain": [
       "<matplotlib.image.AxesImage at 0x7fc34cfdce80>"
      ]
     },
     "execution_count": 77,
     "metadata": {},
     "output_type": "execute_result"
    },
    {
     "data": {
      "image/png": "[encoded data removed]",
      "text/plain": [
       "<Figure size 640x480 with 1 Axes>"
      ]
     },
     "metadata": {},
     "output_type": "display_data"
    }
   ],
   "source": [
    "idx = 3\n",
    "plt.imshow(x0[idx].detach().cpu().permute([1, 2, 0]))"
   ]
  },
  {
   "cell_type": "code",
   "execution_count": 78,
   "id": "21942deb",
   "metadata": {},
   "outputs": [
    {
     "name": "stderr",
     "output_type": "stream",
     "text": [
      "Clipping input data to the valid range for imshow with RGB data ([0..1] for floats or [0..255] for integers).\n"
     ]
    },
    {
     "data": {
      "text/plain": [
       "<matplotlib.image.AxesImage at 0x7fc34ce69360>"
      ]
     },
     "execution_count": 78,
     "metadata": {},
     "output_type": "execute_result"
    },
    {
     "data": {
      "image/png": "[encoded data removed]",
      "text/plain": [
       "<Figure size 640x480 with 1 Axes>"
      ]
     },
     "metadata": {},
     "output_type": "display_data"
    }
   ],
   "source": [
    "plt.imshow(x1[idx].detach().cpu().permute([1, 2, 0]))"
   ]
  },
  {
   "cell_type": "code",
   "execution_count": null,
   "id": "8ffd6c53",
   "metadata": {},
   "outputs": [],
   "source": []
  }
 ],
 "metadata": {
  "kernelspec": {
   "display_name": "Python 3 (ipykernel)",
   "language": "python",
   "name": "python3"
  },
  "language_info": {
   "codemirror_mode": {
    "name": "ipython",
    "version": 3
   },
   "file_extension": ".py",
   "mimetype": "text/x-python",
   "name": "python",
   "nbconvert_exporter": "python",
   "pygments_lexer": "ipython3",
   "version": "3.10.10"
  }
 },
 "nbformat": 4,
 "nbformat_minor": 5
}
