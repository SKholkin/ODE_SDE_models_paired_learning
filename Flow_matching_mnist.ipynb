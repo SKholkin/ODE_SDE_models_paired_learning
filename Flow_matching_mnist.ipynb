{
 "cells": [
  {
   "cell_type": "markdown",
   "id": "4fc5c040",
   "metadata": {},
   "source": [
    "## Imports"
   ]
  },
  {
   "cell_type": "code",
   "execution_count": 25,
   "id": "bdfbcf83",
   "metadata": {},
   "outputs": [],
   "source": [
    "import torch\n",
    "import torchvision\n",
    "import torch.nn as nn\n",
    "\n",
    "import torchvision.datasets\n",
    "\n",
    "import torchvision.transforms as tforms\n",
    "\n",
    "import matplotlib.pyplot as plt\n",
    "import numpy as np\n",
    "\n",
    "from tqdm import tqdm as tqdm"
   ]
  },
  {
   "cell_type": "markdown",
   "id": "d83fd021",
   "metadata": {},
   "source": [
    "## Data preparation"
   ]
  },
  {
   "cell_type": "code",
   "execution_count": 26,
   "id": "aad5d854",
   "metadata": {},
   "outputs": [],
   "source": [
    "\n",
    "channels = 3\n",
    "im_size = 16\n",
    "\n",
    "mnist_transform = tforms.Compose([\n",
    "        tforms.Resize(im_size),\n",
    "        tforms.ToTensor(),\n",
    "        tforms.Lambda(lambda x: torch.cat([x, x, x], 0)),\n",
    "        tforms.Normalize([0.5],[0.5])\n",
    "    ])\n",
    "\n",
    "train_0 = torchvision.datasets.MNIST(root=\"./data\", train=True, transform=mnist_transform, download=True)\n",
    "test_regular_mnist = torchvision.datasets.MNIST(root=\"./data\", train=False, transform=mnist_transform, download=True)\n",
    "\n",
    "def random_color(im):\n",
    "    hue = 360*np.random.rand()\n",
    "    d = (im *(hue%60)/60)\n",
    "    im_min, im_inc, im_dec = torch.zeros_like(im), d, im - d\n",
    "    c_im = torch.zeros((3, im.shape[1], im.shape[2]))\n",
    "    H = round(hue/60) % 6    \n",
    "    cmap = [[0, 3, 2], [2, 0, 3], [1, 0, 3], [1, 2, 0], [3, 1, 0], [0, 1, 2]]\n",
    "    return torch.cat((im, im_min, im_dec, im_inc), dim=0)[cmap[H]]\n",
    "\n",
    "colored_transform = tforms.Compose([\n",
    "    tforms.Resize(im_size),\n",
    "    tforms.ToTensor(),\n",
    "    random_color,\n",
    "    tforms.Normalize([0.5],[0.5])\n",
    "])\n",
    "\n",
    "train_1 = torchvision.datasets.MNIST(root=\"./data\", train=True, transform=colored_transform, download=True)\n",
    "test_colored_mnist = torchvision.datasets.MNIST(root=\"./data\", train=False, transform=colored_transform, download=True)\n"
   ]
  },
  {
   "cell_type": "code",
   "execution_count": 68,
   "id": "e8af67a4",
   "metadata": {},
   "outputs": [],
   "source": [
    "def display_cond_generation(model, x_0):\n",
    "    model.euler_dt = 1e-2\n",
    "    x_1 = model.sample(x_0)\n",
    "    fig, ax = plt.subplots(ncols=2, figsize=(10, 4))\n",
    "    ax[0].imshow(x_0[0].permute([1, 2, 0]).cpu())\n",
    "    \n",
    "    ax[1].imshow(x_1[0].permute([1, 2, 0]).cpu())\n",
    "    \n"
   ]
  },
  {
   "cell_type": "markdown",
   "id": "4800d5db",
   "metadata": {},
   "source": [
    "## Model"
   ]
  },
  {
   "cell_type": "code",
   "execution_count": 44,
   "id": "bdb36c2a",
   "metadata": {},
   "outputs": [],
   "source": [
    "from unet import UNet\n",
    "\n",
    "class FlowMathcing(nn.Module):\n",
    "    def __init__(self, unet):\n",
    "        super().__init__()\n",
    "        # CNN + positional embeding time conditioning\n",
    "        # can use NN from MNIST DDPM\n",
    "        self.vector_net = UNet(channels, base_channels=128, channel_mults=(1, 2, 4))\n",
    "        self.vector_net = unet\n",
    "        self.euler_dt = 0.01\n",
    "        \n",
    "    \n",
    "    def forward(self, x_0):\n",
    "        # solve forward ODE via Euler or torchdiffeq solver\n",
    "        x_t = x_0\n",
    "        \n",
    "        t_range = tqdm(torch.arange(0, 1, step=self.euler_dt))\n",
    "        \n",
    "        for t in t_range:\n",
    "            x_t = x_t + self.vector_net(x_t, t) * self.euler_dt\n",
    "            \n",
    "        return x_t\n",
    "\n",
    "    @torch.no_grad()\n",
    "    def sample(self, x_0):\n",
    "        x_t = x_0\n",
    "        dt = 0.001\n",
    "        \n",
    "        t_range = tqdm(torch.arange(0, 1, step=self.euler_dt))\n",
    "        \n",
    "        for t in t_range:\n",
    "            x_t = x_t + self.vector_net(x_t, t) * self.euler_dt\n",
    "            \n",
    "        return x_t\n",
    "    \n",
    "    def step(self, x_0, x_1, t):\n",
    "        t = t.reshape([-1, 1, 1, 1])\n",
    "        x_t = t * x_1 + (1 - t) * x_0\n",
    "        x_t_hat = self.vector_net(x_t, t)\n",
    "        return self.loss(x_t_hat, x_0, x_1, t).mean()\n",
    "    \n",
    "    def loss(self, x_t_hat, x_0, x_1, t):\n",
    "        return torch.norm((x_t_hat - (x_1 - x_0)).reshape([x_0.shape[0], -1]), dim=-1)\n",
    "    "
   ]
  },
  {
   "cell_type": "code",
   "execution_count": 29,
   "id": "7b6b5d17",
   "metadata": {},
   "outputs": [
    {
     "ename": "NameError",
     "evalue": "name 'train_colored_mnist' is not defined",
     "output_type": "error",
     "traceback": [
      "\u001b[0;31m---------------------------------------------------------------------------\u001b[0m",
      "\u001b[0;31mNameError\u001b[0m                                 Traceback (most recent call last)",
      "Cell \u001b[0;32mIn[29], line 3\u001b[0m\n\u001b[1;32m      1\u001b[0m model_unet \u001b[38;5;241m=\u001b[39m UNet(channels, base_channels\u001b[38;5;241m=\u001b[39m\u001b[38;5;241m128\u001b[39m, channel_mults\u001b[38;5;241m=\u001b[39m(\u001b[38;5;241m1\u001b[39m, \u001b[38;5;241m2\u001b[39m, \u001b[38;5;241m4\u001b[39m))\n\u001b[0;32m----> 3\u001b[0m train_colored_mnist_loader \u001b[38;5;241m=\u001b[39m torch\u001b[38;5;241m.\u001b[39mutils\u001b[38;5;241m.\u001b[39mdata\u001b[38;5;241m.\u001b[39mDataLoader(\u001b[43mtrain_colored_mnist\u001b[49m, batch_size\u001b[38;5;241m=\u001b[39m\u001b[38;5;241m64\u001b[39m, shuffle\u001b[38;5;241m=\u001b[39m\u001b[38;5;28;01mTrue\u001b[39;00m)\n\u001b[1;32m      5\u001b[0m samples_input \u001b[38;5;241m=\u001b[39m \u001b[38;5;28mnext\u001b[39m(\u001b[38;5;28miter\u001b[39m(train_colored_mnist_loader))[\u001b[38;5;241m0\u001b[39m]\n\u001b[1;32m      7\u001b[0m model_unet(samples_input, torch\u001b[38;5;241m.\u001b[39mzeros([\u001b[38;5;241m64\u001b[39m]))\u001b[38;5;241m.\u001b[39mshape\n",
      "\u001b[0;31mNameError\u001b[0m: name 'train_colored_mnist' is not defined"
     ]
    }
   ],
   "source": [
    "model_unet = UNet(channels, base_channels=128, channel_mults=(1, 2, 4))\n",
    "\n",
    "train_colored_mnist_loader = torch.utils.data.DataLoader(train_colored_mnist, batch_size=64, shuffle=True)\n",
    "\n",
    "samples_input = next(iter(train_colored_mnist_loader))[0]\n",
    "\n",
    "model_unet(samples_input, torch.zeros([64])).shape"
   ]
  },
  {
   "cell_type": "code",
   "execution_count": null,
   "id": "ff993b93",
   "metadata": {},
   "outputs": [],
   "source": [
    "# fm_model = FlowMathcing()\n",
    "with torch.no_grad():\n",
    "    sample_output = fm_model(sample_regular_mnist.to('cuda:1'))"
   ]
  },
  {
   "cell_type": "code",
   "execution_count": 40,
   "id": "a3750452",
   "metadata": {},
   "outputs": [
    {
     "name": "stderr",
     "output_type": "stream",
     "text": [
      "Clipping input data to the valid range for imshow with RGB data ([0..1] for floats or [0..255] for integers).\n"
     ]
    },
    {
     "data": {
      "text/plain": [
       "<matplotlib.image.AxesImage at 0x7f2298d24d00>"
      ]
     },
     "execution_count": 40,
     "metadata": {},
     "output_type": "execute_result"
    },
    {
     "data": {
      "image/png": "[encoded data removed]",
      "text/plain": [
       "<Figure size 640x480 with 1 Axes>"
      ]
     },
     "metadata": {},
     "output_type": "display_data"
    }
   ],
   "source": [
    "plt.imshow(sample_regular_mnist[15].detach().cpu().permute([1, 2, 0]), cmap='gray')"
   ]
  },
  {
   "cell_type": "code",
   "execution_count": 41,
   "id": "5f302d4f",
   "metadata": {},
   "outputs": [
    {
     "name": "stderr",
     "output_type": "stream",
     "text": [
      "Clipping input data to the valid range for imshow with RGB data ([0..1] for floats or [0..255] for integers).\n"
     ]
    },
    {
     "data": {
      "text/plain": [
       "<matplotlib.image.AxesImage at 0x7f2298dcdbd0>"
      ]
     },
     "execution_count": 41,
     "metadata": {},
     "output_type": "execute_result"
    },
    {
     "data": {
      "image/png": "[encoded data removed]",
      "text/plain": [
       "<Figure size 640x480 with 1 Axes>"
      ]
     },
     "metadata": {},
     "output_type": "display_data"
    }
   ],
   "source": [
    "plt.imshow(sample_output[15].detach().cpu().permute([1, 2, 0]), cmap='gray')"
   ]
  },
  {
   "cell_type": "markdown",
   "id": "650d1403",
   "metadata": {},
   "source": [
    "## Training"
   ]
  },
  {
   "cell_type": "code",
   "execution_count": 30,
   "id": "2abed32a",
   "metadata": {},
   "outputs": [],
   "source": [
    "device = 'cuda:1'\n",
    "batch_size = 64\n",
    "epochs = 10\n",
    "\n",
    "train_colored_mnist_loader = torch.utils.data.DataLoader(train_1, batch_size=batch_size, shuffle=True, drop_last=True)\n",
    "train_regular_mnist_loader = torch.utils.data.DataLoader(train_0, batch_size=batch_size, shuffle=True, drop_last=True)\n",
    "\n",
    "unet_mnist = UNet(channels, base_channels=128, channel_mults=(1, 2, 4))\n",
    "\n",
    "fm_model = FlowMathcing(unet_mnist)\n",
    "# fm_model.load_state_dict(torch.load('fm_model_colored_mnist_16.pth'))\n",
    "\n",
    "fm_model.to(device)\n",
    "\n",
    "opt = torch.optim.AdamW(fm_model.parameters(), lr=3e-4)\n",
    "\n",
    "from optimal_transport import OTPlanSampler\n",
    "\n",
    "def create_pairs_OT(batch_x_0, batch_x_1):\n",
    "    ot_sampler = OTPlanSampler(method=\"exact\")\n",
    "    x0, x1 = ot_sampler.sample_plan(batch_x_0, batch_x_1)\n",
    "    return x0, x1\n",
    "\n",
    "sample_regular_mnist = next(iter(train_regular_mnist_loader))[0]\n",
    "sample_colored_mnist = next(iter(train_colored_mnist_loader))[0]\n"
   ]
  },
  {
   "cell_type": "code",
   "execution_count": 31,
   "id": "168350bb",
   "metadata": {},
   "outputs": [
    {
     "name": "stderr",
     "output_type": "stream",
     "text": [
      "\n",
      "0it [20:14:37, ?it/s]\n"
     ]
    },
    {
     "name": "stdout",
     "output_type": "stream",
     "text": [
      "Epoch: 0 iter 0 Loss 16.828414916992188\n",
      "Epoch: 0 iter 100 Loss 10.85605239868164\n",
      "Epoch: 0 iter 200 Loss 8.564728736877441\n",
      "Epoch: 0 iter 300 Loss 7.440168380737305\n",
      "Epoch: 0 iter 400 Loss 6.715147018432617\n",
      "Epoch: 0 iter 500 Loss 6.1765217781066895\n",
      "Epoch: 0 iter 600 Loss 5.728676795959473\n",
      "Epoch: 0 iter 700 Loss 5.386662483215332\n",
      "Epoch: 0 iter 800 Loss 5.1011457443237305\n",
      "Epoch: 0 iter 900 Loss 4.858580112457275\n",
      "Epoch: 1 iter 0 Loss 4.775923252105713\n",
      "Epoch: 1 iter 100 Loss 4.242400169372559\n",
      "Epoch: 1 iter 200 Loss 3.683765411376953\n",
      "Epoch: 1 iter 300 Loss 3.359555721282959\n",
      "Epoch: 1 iter 400 Loss 3.1146011352539062\n",
      "Epoch: 1 iter 500 Loss 2.9273641109466553\n",
      "Epoch: 1 iter 600 Loss 2.7756383419036865\n",
      "Epoch: 1 iter 700 Loss 2.661888599395752\n",
      "Epoch: 1 iter 800 Loss 2.5706067085266113\n",
      "Epoch: 1 iter 900 Loss 2.4824483394622803\n",
      "Epoch: 2 iter 0 Loss 2.454749822616577\n",
      "Epoch: 2 iter 100 Loss 2.4000189304351807\n",
      "Epoch: 2 iter 200 Loss 2.33496356010437\n",
      "Epoch: 2 iter 300 Loss 2.275063991546631\n",
      "Epoch: 2 iter 400 Loss 2.217602014541626\n",
      "Epoch: 2 iter 500 Loss 2.172780990600586\n",
      "Epoch: 2 iter 600 Loss 2.136441946029663\n",
      "Epoch: 2 iter 700 Loss 2.1017062664031982\n",
      "Epoch: 2 iter 800 Loss 2.063680410385132\n",
      "Epoch: 2 iter 900 Loss 2.0280590057373047\n",
      "Epoch: 3 iter 0 Loss 2.0157012939453125\n",
      "Epoch: 3 iter 100 Loss 1.9830068349838257\n",
      "Epoch: 3 iter 200 Loss 1.9501575231552124\n",
      "Epoch: 3 iter 300 Loss 1.9270979166030884\n",
      "Epoch: 3 iter 400 Loss 1.9000616073608398\n",
      "Epoch: 3 iter 500 Loss 1.8786348104476929\n",
      "Epoch: 3 iter 600 Loss 1.8585468530654907\n",
      "Epoch: 3 iter 700 Loss 1.8421478271484375\n",
      "Epoch: 3 iter 800 Loss 1.8154748678207397\n",
      "Epoch: 3 iter 900 Loss 1.7986724376678467\n",
      "Epoch: 4 iter 0 Loss 1.7953388690948486\n",
      "Epoch: 4 iter 100 Loss 1.783129096031189\n",
      "Epoch: 4 iter 200 Loss 1.7527273893356323\n",
      "Epoch: 4 iter 300 Loss 1.7404924631118774\n",
      "Epoch: 4 iter 400 Loss 1.7360073328018188\n",
      "Epoch: 4 iter 500 Loss 1.7214176654815674\n",
      "Epoch: 4 iter 600 Loss 1.7084710597991943\n",
      "Epoch: 4 iter 700 Loss 1.6941413879394531\n",
      "Epoch: 4 iter 800 Loss 1.6770730018615723\n",
      "Epoch: 4 iter 900 Loss 1.664726734161377\n",
      "Epoch: 5 iter 0 Loss 1.6624444723129272\n",
      "Epoch: 5 iter 100 Loss 1.6494755744934082\n",
      "Epoch: 5 iter 200 Loss 1.649988055229187\n",
      "Epoch: 5 iter 300 Loss 1.6427043676376343\n",
      "Epoch: 5 iter 400 Loss 1.6183196306228638\n",
      "Epoch: 5 iter 500 Loss 1.6032440662384033\n",
      "Epoch: 5 iter 600 Loss 1.5856115818023682\n",
      "Epoch: 5 iter 700 Loss 1.576736330986023\n",
      "Epoch: 5 iter 800 Loss 1.568392276763916\n",
      "Epoch: 5 iter 900 Loss 1.5633786916732788\n",
      "Epoch: 6 iter 0 Loss 1.5598928928375244\n",
      "Epoch: 6 iter 100 Loss 1.5417450666427612\n",
      "Epoch: 6 iter 200 Loss 1.5305259227752686\n",
      "Epoch: 6 iter 300 Loss 1.5147020816802979\n",
      "Epoch: 6 iter 400 Loss 1.5082162618637085\n",
      "Epoch: 6 iter 500 Loss 1.5010559558868408\n",
      "Epoch: 6 iter 600 Loss 1.4944567680358887\n",
      "Epoch: 6 iter 700 Loss 1.4867109060287476\n",
      "Epoch: 6 iter 800 Loss 1.47612726688385\n",
      "Epoch: 6 iter 900 Loss 2.132535219192505\n",
      "Epoch: 7 iter 0 Loss 2.5890865325927734\n",
      "Epoch: 7 iter 100 Loss 3.6998538970947266\n",
      "Epoch: 7 iter 200 Loss 4.671202659606934\n",
      "Epoch: 7 iter 300 Loss 5.549656391143799\n",
      "Epoch: 7 iter 400 Loss 6.318620681762695\n",
      "Epoch: 7 iter 500 Loss 7.023440361022949\n",
      "Epoch: 7 iter 600 Loss 7.653385639190674\n",
      "Epoch: 7 iter 700 Loss 8.15511417388916\n",
      "Epoch: 7 iter 800 Loss 8.51855182647705\n",
      "Epoch: 7 iter 900 Loss 8.675187110900879\n",
      "Epoch: 8 iter 0 Loss 8.393240928649902\n",
      "Epoch: 8 iter 100 Loss 7.251978874206543\n",
      "Epoch: 8 iter 200 Loss 6.248807430267334\n",
      "Epoch: 8 iter 300 Loss 5.350276947021484\n",
      "Epoch: 8 iter 400 Loss 4.522373676300049\n",
      "Epoch: 8 iter 500 Loss 3.785170793533325\n",
      "Epoch: 8 iter 600 Loss 3.1139819622039795\n",
      "Epoch: 8 iter 700 Loss 2.5254175662994385\n",
      "Epoch: 8 iter 800 Loss 2.0626261234283447\n",
      "Epoch: 8 iter 900 Loss 1.792216420173645\n",
      "Epoch: 9 iter 0 Loss 1.7395613193511963\n",
      "Epoch: 9 iter 100 Loss 1.6245125532150269\n",
      "Epoch: 9 iter 200 Loss 1.546636939048767\n",
      "Epoch: 9 iter 300 Loss 1.4929800033569336\n",
      "Epoch: 9 iter 400 Loss 1.4605754613876343\n",
      "Epoch: 9 iter 500 Loss 1.445408821105957\n",
      "Epoch: 9 iter 600 Loss 1.4271515607833862\n",
      "Epoch: 9 iter 700 Loss 1.4121485948562622\n",
      "Epoch: 9 iter 800 Loss 1.3974870443344116\n",
      "Epoch: 9 iter 900 Loss 1.3860788345336914\n",
      "Epoch: 10 iter 0 Loss 1.3784410953521729\n",
      "Epoch: 10 iter 100 Loss 1.3620158433914185\n",
      "Epoch: 10 iter 200 Loss 1.3547972440719604\n",
      "Epoch: 10 iter 300 Loss 1.346331000328064\n",
      "Epoch: 10 iter 400 Loss 1.3334407806396484\n",
      "Epoch: 10 iter 500 Loss 1.3232614994049072\n",
      "Epoch: 10 iter 600 Loss 1.3137987852096558\n",
      "Epoch: 10 iter 700 Loss 1.312346339225769\n",
      "Epoch: 10 iter 800 Loss 1.3084293603897095\n",
      "Epoch: 10 iter 900 Loss 1.3025190830230713\n",
      "Epoch: 11 iter 0 Loss 1.3007235527038574\n",
      "Epoch: 11 iter 100 Loss 1.2978497743606567\n",
      "Epoch: 11 iter 200 Loss 1.292219877243042\n",
      "Epoch: 11 iter 300 Loss 1.2831085920333862\n",
      "Epoch: 11 iter 400 Loss 1.2762155532836914\n",
      "Epoch: 11 iter 500 Loss 1.2708580493927002\n",
      "Epoch: 11 iter 600 Loss 1.2623080015182495\n",
      "Epoch: 11 iter 700 Loss 1.2533094882965088\n",
      "Epoch: 11 iter 800 Loss 1.25285804271698\n",
      "Epoch: 11 iter 900 Loss 1.2464674711227417\n",
      "Epoch: 12 iter 0 Loss 1.242082953453064\n",
      "Epoch: 12 iter 100 Loss 1.2381525039672852\n",
      "Epoch: 12 iter 200 Loss 1.232011318206787\n",
      "Epoch: 12 iter 300 Loss 1.231535792350769\n",
      "Epoch: 12 iter 400 Loss 1.231519341468811\n",
      "Epoch: 12 iter 500 Loss 1.2230464220046997\n",
      "Epoch: 12 iter 600 Loss 1.2179787158966064\n",
      "Epoch: 12 iter 700 Loss 1.2180856466293335\n",
      "Epoch: 12 iter 800 Loss 1.21039617061615\n",
      "Epoch: 12 iter 900 Loss 1.207832932472229\n",
      "Epoch: 13 iter 0 Loss 1.2069637775421143\n",
      "Epoch: 13 iter 100 Loss 1.1986918449401855\n",
      "Epoch: 13 iter 200 Loss 1.2013049125671387\n",
      "Epoch: 13 iter 300 Loss 1.196513295173645\n",
      "Epoch: 13 iter 400 Loss 1.187480092048645\n",
      "Epoch: 13 iter 500 Loss 1.1835105419158936\n",
      "Epoch: 13 iter 600 Loss 1.178968906402588\n",
      "Epoch: 13 iter 700 Loss 1.175632119178772\n",
      "Epoch: 13 iter 800 Loss 1.1730979681015015\n",
      "Epoch: 13 iter 900 Loss 1.1641340255737305\n",
      "Epoch: 14 iter 0 Loss 1.1639137268066406\n",
      "Epoch: 14 iter 100 Loss 1.1643487215042114\n",
      "Epoch: 14 iter 200 Loss 1.160922884941101\n",
      "Epoch: 14 iter 300 Loss 1.160980224609375\n",
      "Epoch: 14 iter 400 Loss 1.1589524745941162\n",
      "Epoch: 14 iter 500 Loss 1.1551190614700317\n",
      "Epoch: 14 iter 600 Loss 1.1545336246490479\n",
      "Epoch: 14 iter 700 Loss 1.152063250541687\n",
      "Epoch: 14 iter 800 Loss 1.1479706764221191\n",
      "Epoch: 14 iter 900 Loss 1.1387767791748047\n",
      "Epoch: 15 iter 0 Loss 1.1404246091842651\n",
      "Epoch: 15 iter 100 Loss 1.1316665410995483\n",
      "Epoch: 15 iter 200 Loss 1.130191683769226\n",
      "Epoch: 15 iter 300 Loss 1.1264230012893677\n",
      "Epoch: 15 iter 400 Loss 1.1222405433654785\n",
      "Epoch: 15 iter 500 Loss 1.1177476644515991\n",
      "Epoch: 15 iter 600 Loss 1.1197021007537842\n",
      "Epoch: 15 iter 700 Loss 1.1190378665924072\n",
      "Epoch: 15 iter 800 Loss 1.1139283180236816\n",
      "Epoch: 15 iter 900 Loss 1.1133428812026978\n",
      "Epoch: 16 iter 0 Loss 1.118070125579834\n",
      "Epoch: 16 iter 100 Loss 1.1174694299697876\n",
      "Epoch: 16 iter 200 Loss 1.115531086921692\n",
      "Epoch: 16 iter 300 Loss 1.1106345653533936\n",
      "Epoch: 16 iter 400 Loss 1.10373854637146\n",
      "Epoch: 16 iter 500 Loss 1.1015880107879639\n",
      "Epoch: 16 iter 600 Loss 1.0982751846313477\n",
      "Epoch: 16 iter 700 Loss 1.097408413887024\n",
      "Epoch: 16 iter 800 Loss 1.0923936367034912\n",
      "Epoch: 16 iter 900 Loss 1.0839438438415527\n",
      "Epoch: 17 iter 0 Loss 1.0857356786727905\n",
      "Epoch: 17 iter 100 Loss 1.0771089792251587\n",
      "Epoch: 17 iter 200 Loss 1.077884316444397\n",
      "Epoch: 17 iter 300 Loss 1.0712765455245972\n",
      "Epoch: 17 iter 400 Loss 1.0646189451217651\n",
      "Epoch: 17 iter 500 Loss 1.063196063041687\n",
      "Epoch: 17 iter 600 Loss 1.0631533861160278\n",
      "Epoch: 17 iter 700 Loss 1.062133550643921\n",
      "Epoch: 17 iter 800 Loss 1.0627576112747192\n",
      "Epoch: 17 iter 900 Loss 1.0644387006759644\n",
      "Epoch: 18 iter 0 Loss 1.06593656539917\n",
      "Epoch: 18 iter 100 Loss 1.061728835105896\n",
      "Epoch: 18 iter 200 Loss 1.060086965560913\n",
      "Epoch: 18 iter 300 Loss 1.054490089416504\n",
      "Epoch: 18 iter 400 Loss 1.059433102607727\n",
      "Epoch: 18 iter 500 Loss 1.0589487552642822\n",
      "Epoch: 18 iter 600 Loss 1.0544129610061646\n",
      "Epoch: 18 iter 700 Loss 1.050186038017273\n",
      "Epoch: 18 iter 800 Loss 1.044339656829834\n",
      "Epoch: 18 iter 900 Loss 1.0406540632247925\n",
      "Epoch: 19 iter 0 Loss 1.037505865097046\n",
      "Epoch: 19 iter 100 Loss 1.0412073135375977\n",
      "Epoch: 19 iter 200 Loss 1.039670705795288\n",
      "Epoch: 19 iter 300 Loss 1.0414659976959229\n",
      "Epoch: 19 iter 400 Loss 1.0396819114685059\n",
      "Epoch: 19 iter 500 Loss 1.0299205780029297\n"
     ]
    },
    {
     "name": "stdout",
     "output_type": "stream",
     "text": [
      "Epoch: 19 iter 600 Loss 1.0272690057754517\n",
      "Epoch: 19 iter 700 Loss 1.0256543159484863\n",
      "Epoch: 19 iter 800 Loss 1.0217305421829224\n",
      "Epoch: 19 iter 900 Loss 1.0219866037368774\n",
      "Epoch: 20 iter 0 Loss 1.0187902450561523\n",
      "Epoch: 20 iter 100 Loss 1.014991283416748\n",
      "Epoch: 20 iter 200 Loss 1.0085104703903198\n",
      "Epoch: 20 iter 300 Loss 1.0071125030517578\n",
      "Epoch: 20 iter 400 Loss 1.0017415285110474\n",
      "Epoch: 20 iter 500 Loss 1.0065598487854004\n",
      "Epoch: 20 iter 600 Loss 1.000998616218567\n",
      "Epoch: 20 iter 700 Loss 0.9961105585098267\n",
      "Epoch: 20 iter 800 Loss 0.9917536377906799\n",
      "Epoch: 20 iter 900 Loss 0.9891328811645508\n",
      "Epoch: 21 iter 0 Loss 0.9867513179779053\n",
      "Epoch: 21 iter 100 Loss 0.9847549200057983\n",
      "Epoch: 21 iter 200 Loss 0.9890188574790955\n",
      "Epoch: 21 iter 300 Loss 0.9873193502426147\n",
      "Epoch: 21 iter 400 Loss 0.9889514446258545\n",
      "Epoch: 21 iter 500 Loss 0.9898549318313599\n",
      "Epoch: 21 iter 600 Loss 0.9886007905006409\n",
      "Epoch: 21 iter 700 Loss 0.9901310205459595\n",
      "Epoch: 21 iter 800 Loss 0.9927894473075867\n",
      "Epoch: 21 iter 900 Loss 0.9943794012069702\n",
      "Epoch: 22 iter 0 Loss 0.9922065138816833\n",
      "Epoch: 22 iter 100 Loss 0.9875832200050354\n",
      "Epoch: 22 iter 200 Loss 0.9840622544288635\n",
      "Epoch: 22 iter 300 Loss 0.9805744290351868\n",
      "Epoch: 22 iter 400 Loss 0.9800775647163391\n",
      "Epoch: 22 iter 500 Loss 0.9723260998725891\n",
      "Epoch: 22 iter 600 Loss 0.9698893427848816\n",
      "Epoch: 22 iter 700 Loss 0.9671524167060852\n",
      "Epoch: 22 iter 800 Loss 0.9601094126701355\n",
      "Epoch: 22 iter 900 Loss 0.9595100283622742\n",
      "Epoch: 23 iter 0 Loss 0.9590872526168823\n",
      "Epoch: 23 iter 100 Loss 0.9554246664047241\n",
      "Epoch: 23 iter 200 Loss 0.9567687511444092\n",
      "Epoch: 23 iter 300 Loss 0.9546000361442566\n",
      "Epoch: 23 iter 400 Loss 0.9576981067657471\n",
      "Epoch: 23 iter 500 Loss 0.9523926973342896\n",
      "Epoch: 23 iter 600 Loss 0.9507396817207336\n",
      "Epoch: 23 iter 700 Loss 0.9519637227058411\n",
      "Epoch: 23 iter 800 Loss 0.9453321695327759\n",
      "Epoch: 23 iter 900 Loss 0.9434988498687744\n",
      "Epoch: 24 iter 0 Loss 0.9424889087677002\n",
      "Epoch: 24 iter 100 Loss 0.941764771938324\n",
      "Epoch: 24 iter 200 Loss 0.9413394927978516\n",
      "Epoch: 24 iter 300 Loss 0.9451149702072144\n",
      "Epoch: 24 iter 400 Loss 0.9366444945335388\n",
      "Epoch: 24 iter 500 Loss 0.9325975775718689\n",
      "Epoch: 24 iter 600 Loss 0.9377099871635437\n",
      "Epoch: 24 iter 700 Loss 0.9342654943466187\n",
      "Epoch: 24 iter 800 Loss 0.9355169534683228\n",
      "Epoch: 24 iter 900 Loss 0.9365422129631042\n",
      "Epoch: 25 iter 0 Loss 0.9376100301742554\n",
      "Epoch: 25 iter 100 Loss 0.9359274506568909\n",
      "Epoch: 25 iter 200 Loss 0.9318568706512451\n",
      "Epoch: 25 iter 300 Loss 0.930583655834198\n",
      "Epoch: 25 iter 400 Loss 0.9267858862876892\n",
      "Epoch: 25 iter 500 Loss 0.9272425174713135\n",
      "Epoch: 25 iter 600 Loss 0.9307883381843567\n",
      "Epoch: 25 iter 700 Loss 0.9263349771499634\n",
      "Epoch: 25 iter 800 Loss 0.9202926158905029\n",
      "Epoch: 25 iter 900 Loss 0.9219465255737305\n",
      "Epoch: 26 iter 0 Loss 0.9190173149108887\n",
      "Epoch: 26 iter 100 Loss 0.9138139486312866\n",
      "Epoch: 26 iter 200 Loss 0.9135144948959351\n",
      "Epoch: 26 iter 300 Loss 0.9126029014587402\n",
      "Epoch: 26 iter 400 Loss 0.9086806774139404\n",
      "Epoch: 26 iter 500 Loss 0.9107571840286255\n",
      "Epoch: 26 iter 600 Loss 0.9122541546821594\n",
      "Epoch: 26 iter 700 Loss 0.9131757616996765\n",
      "Epoch: 26 iter 800 Loss 0.9135032892227173\n",
      "Epoch: 26 iter 900 Loss 0.9152824282646179\n",
      "Epoch: 27 iter 0 Loss 0.9157881140708923\n",
      "Epoch: 27 iter 100 Loss 0.9174405336380005\n",
      "Epoch: 27 iter 200 Loss 0.9176660180091858\n",
      "Epoch: 27 iter 300 Loss 0.9146920442581177\n",
      "Epoch: 27 iter 400 Loss 0.9218422174453735\n",
      "Epoch: 27 iter 500 Loss 0.9240825772285461\n",
      "Epoch: 27 iter 600 Loss 0.9170091152191162\n",
      "Epoch: 27 iter 700 Loss 0.9160723090171814\n",
      "Epoch: 27 iter 800 Loss 0.9112523794174194\n",
      "Epoch: 27 iter 900 Loss 0.9083874225616455\n",
      "Epoch: 28 iter 0 Loss 0.9075796008110046\n",
      "Epoch: 28 iter 100 Loss 0.8984317779541016\n",
      "Epoch: 28 iter 200 Loss 0.8977298736572266\n",
      "Epoch: 28 iter 300 Loss 0.8976245522499084\n",
      "Epoch: 28 iter 400 Loss 0.896920382976532\n",
      "Epoch: 28 iter 500 Loss 0.8922447562217712\n",
      "Epoch: 28 iter 600 Loss 0.8893297910690308\n",
      "Epoch: 28 iter 700 Loss 0.8905223608016968\n",
      "Epoch: 28 iter 800 Loss 0.8900717496871948\n",
      "Epoch: 28 iter 900 Loss 0.8841879963874817\n",
      "Epoch: 29 iter 0 Loss 0.8858909010887146\n",
      "Epoch: 29 iter 100 Loss 0.8861104249954224\n",
      "Epoch: 29 iter 200 Loss 0.889987051486969\n",
      "Epoch: 29 iter 300 Loss 0.8907925486564636\n",
      "Epoch: 29 iter 400 Loss 0.8919683694839478\n",
      "Epoch: 29 iter 500 Loss 0.8905617594718933\n",
      "Epoch: 29 iter 600 Loss 0.8922942876815796\n",
      "Epoch: 29 iter 700 Loss 0.8922275900840759\n",
      "Epoch: 29 iter 800 Loss 0.8843057155609131\n",
      "Epoch: 29 iter 900 Loss 0.8833615779876709\n"
     ]
    }
   ],
   "source": [
    "pbar = tqdm(enumerate(zip(iter(train_regular_mnist_loader), iter(train_colored_mnist_loader))))\n",
    "n_epochs = 30\n",
    "loss_storage = []\n",
    "\n",
    "for epoch in range(n_epochs):\n",
    "    for itr, item in enumerate(zip(iter(train_regular_mnist_loader), iter(train_colored_mnist_loader))):\n",
    "    #     print(item)[0]\n",
    "        ((x_0, y_0), (x_1, y_1)) = item\n",
    "        x_0, x_1 = x_0.to(device), x_1.to(device)\n",
    "        x0, x1 = create_pairs_OT(x_0, x_1)\n",
    "        t = torch.rand(batch_size).to(device)\n",
    "        loss = fm_model.step(x_0, x_1, t)\n",
    "\n",
    "        opt.zero_grad()\n",
    "        loss.backward()\n",
    "        opt.step()\n",
    "        loss_storage.append(loss.item())\n",
    "        if itr % 100 == 0:\n",
    "            print(f'Epoch: {epoch} iter {itr} Loss {torch.mean(torch.tensor(loss_storage[-min(1000, len(loss_storage)):]))}')\n",
    "    #     pbar.set_description(f'Loss: {loss.item()}')\n",
    "    torch.save(fm_model.state_dict(), f'fm_model_mnist_16_ep_{epoch}.pth')\n",
    "\n"
   ]
  },
  {
   "cell_type": "code",
   "execution_count": 53,
   "id": "8ffd6c53",
   "metadata": {},
   "outputs": [
    {
     "name": "stderr",
     "output_type": "stream",
     "text": [
      "100%|███████████████████████████████████████████████████████████████████████████████████████████████████████████████████████████████████████████████████████████████████████| 1000/1000 [00:12<00:00, 79.55it/s]\n",
      "Clipping input data to the valid range for imshow with RGB data ([0..1] for floats or [0..255] for integers).\n",
      "Clipping input data to the valid range for imshow with RGB data ([0..1] for floats or [0..255] for integers).\n"
     ]
    },
    {
     "data": {
      "image/png": "[encoded data removed]",
      "text/plain": [
       "<Figure size 1000x400 with 2 Axes>"
      ]
     },
     "metadata": {},
     "output_type": "display_data"
    }
   ],
   "source": [
    "\n",
    "sample_regular_mnist = next(iter(train_regular_mnist_loader))[0]\n",
    "display_cond_generation(fm_model, sample_regular_mnist.to(device))"
   ]
  },
  {
   "cell_type": "code",
   "execution_count": 79,
   "id": "2f757f0d",
   "metadata": {},
   "outputs": [],
   "source": [
    "\n",
    "unet_cifar = UNet(channels, base_channels=128, channel_mults=(1, 2, 4, 8))\n",
    "\n",
    "fm_model_cifar = FlowMathcing(unet_cifar)\n",
    "# fm_model.load_state_dict(torch.load('fm_model_colored_mnist_16.pth'))\n",
    "\n",
    "fm_model_cifar.to(device)\n",
    "\n",
    "opt_cifar = torch.optim.AdamW(fm_model_cifar.parameters(), lr=1e-4)"
   ]
  },
  {
   "cell_type": "code",
   "execution_count": 80,
   "id": "d9ac24ab",
   "metadata": {},
   "outputs": [
    {
     "name": "stdout",
     "output_type": "stream",
     "text": [
      "Files already downloaded and verified\n",
      "Epoch: 0 iter 0 Loss 23.77988052368164\n",
      "Epoch: 0 iter 100 Loss 10.396723747253418\n",
      "Epoch: 0 iter 200 Loss 7.894082069396973\n",
      "Epoch: 0 iter 300 Loss 6.6403985023498535\n",
      "Epoch: 0 iter 400 Loss 5.850844860076904\n",
      "Epoch: 0 iter 500 Loss 5.296468257904053\n",
      "Epoch: 0 iter 600 Loss 4.885606288909912\n",
      "Epoch: 0 iter 700 Loss 4.5547685623168945\n",
      "Epoch: 1 iter 0 Loss 4.3361358642578125\n",
      "Epoch: 1 iter 100 Loss 4.1055073738098145\n",
      "Epoch: 1 iter 200 Loss 3.910879135131836\n",
      "Epoch: 1 iter 300 Loss 3.1416141986846924\n",
      "Epoch: 1 iter 400 Loss 2.7618536949157715\n",
      "Epoch: 1 iter 500 Loss 2.527355909347534\n",
      "Epoch: 1 iter 600 Loss 2.360628366470337\n",
      "Epoch: 1 iter 700 Loss 2.227752447128296\n",
      "Epoch: 2 iter 0 Loss 2.1385388374328613\n",
      "Epoch: 2 iter 100 Loss 2.045454978942871\n",
      "Epoch: 2 iter 200 Loss 1.9667460918426514\n",
      "Epoch: 2 iter 300 Loss 1.8916950225830078\n",
      "Epoch: 2 iter 400 Loss 1.8320146799087524\n",
      "Epoch: 2 iter 500 Loss 1.7668131589889526\n",
      "Epoch: 2 iter 600 Loss 1.7250927686691284\n",
      "Epoch: 2 iter 700 Loss 1.6933982372283936\n",
      "Epoch: 3 iter 0 Loss 1.6721900701522827\n",
      "Epoch: 3 iter 100 Loss 1.6404024362564087\n",
      "Epoch: 3 iter 200 Loss 1.6012036800384521\n",
      "Epoch: 3 iter 300 Loss 1.5640666484832764\n",
      "Epoch: 3 iter 400 Loss 1.5482672452926636\n",
      "Epoch: 3 iter 500 Loss 1.5219849348068237\n",
      "Epoch: 3 iter 600 Loss 1.5009305477142334\n",
      "Epoch: 3 iter 700 Loss 1.4858416318893433\n",
      "Epoch: 4 iter 0 Loss 1.4635027647018433\n",
      "Epoch: 4 iter 100 Loss 1.4229161739349365\n",
      "Epoch: 4 iter 200 Loss 1.3957135677337646\n",
      "Epoch: 4 iter 300 Loss 1.371679663658142\n",
      "Epoch: 4 iter 400 Loss 1.3592008352279663\n",
      "Epoch: 4 iter 500 Loss 1.3403867483139038\n",
      "Epoch: 4 iter 600 Loss 1.305648922920227\n",
      "Epoch: 4 iter 700 Loss 1.3329004049301147\n",
      "Epoch: 5 iter 0 Loss 2.284224033355713\n",
      "Epoch: 5 iter 100 Loss 3.272667407989502\n",
      "Epoch: 5 iter 200 Loss 4.1903181076049805\n",
      "Epoch: 5 iter 300 Loss 5.11167573928833\n",
      "Epoch: 5 iter 400 Loss 5.996254920959473\n",
      "Epoch: 5 iter 500 Loss 6.8405585289001465\n",
      "Epoch: 5 iter 600 Loss 7.610073566436768\n",
      "Epoch: 5 iter 700 Loss 8.348932266235352\n",
      "Epoch: 6 iter 0 Loss 8.934462547302246\n",
      "Epoch: 6 iter 100 Loss 9.627445220947266\n",
      "Epoch: 6 iter 200 Loss 9.527824401855469\n",
      "Epoch: 6 iter 300 Loss 9.177035331726074\n",
      "Epoch: 6 iter 400 Loss 8.907928466796875\n",
      "Epoch: 6 iter 500 Loss 8.651702880859375\n",
      "Epoch: 6 iter 600 Loss 8.413508415222168\n",
      "Epoch: 6 iter 700 Loss 8.210883140563965\n",
      "Epoch: 7 iter 0 Loss 8.09595775604248\n",
      "Epoch: 7 iter 100 Loss 7.984838962554932\n",
      "Epoch: 7 iter 200 Loss 7.896734237670898\n",
      "Epoch: 7 iter 300 Loss 7.835942268371582\n",
      "Epoch: 7 iter 400 Loss 7.765072345733643\n",
      "Epoch: 7 iter 500 Loss 7.709894180297852\n",
      "Epoch: 7 iter 600 Loss 7.639438152313232\n",
      "Epoch: 7 iter 700 Loss 7.569852828979492\n",
      "Epoch: 8 iter 0 Loss 7.50529670715332\n",
      "Epoch: 8 iter 100 Loss 7.421899795532227\n",
      "Epoch: 8 iter 200 Loss 7.321276664733887\n",
      "Epoch: 8 iter 300 Loss 7.229796409606934\n",
      "Epoch: 8 iter 400 Loss 7.1339030265808105\n",
      "Epoch: 8 iter 500 Loss 7.035724639892578\n",
      "Epoch: 8 iter 600 Loss 6.933233261108398\n",
      "Epoch: 8 iter 700 Loss 6.835423469543457\n",
      "Epoch: 9 iter 0 Loss 6.757189750671387\n",
      "Epoch: 9 iter 100 Loss 6.664972305297852\n",
      "Epoch: 9 iter 200 Loss 6.588425159454346\n",
      "Epoch: 9 iter 300 Loss 6.515927314758301\n",
      "Epoch: 9 iter 400 Loss 6.454560279846191\n",
      "Epoch: 9 iter 500 Loss 6.402148246765137\n",
      "Epoch: 9 iter 600 Loss 6.360232353210449\n",
      "Epoch: 9 iter 700 Loss 6.322878360748291\n",
      "Epoch: 10 iter 0 Loss 6.289802551269531\n",
      "Epoch: 10 iter 100 Loss 6.2531418800354\n",
      "Epoch: 10 iter 200 Loss 6.217687606811523\n",
      "Epoch: 10 iter 300 Loss 6.188718318939209\n",
      "Epoch: 10 iter 400 Loss 6.157179355621338\n",
      "Epoch: 10 iter 500 Loss 6.131903648376465\n"
     ]
    },
    {
     "ename": "KeyboardInterrupt",
     "evalue": "",
     "output_type": "error",
     "traceback": [
      "\u001b[0;31m---------------------------------------------------------------------------\u001b[0m",
      "\u001b[0;31mKeyboardInterrupt\u001b[0m                         Traceback (most recent call last)",
      "Cell \u001b[0;32mIn[80], line 33\u001b[0m\n\u001b[1;32m     31\u001b[0m opt_cifar\u001b[38;5;241m.\u001b[39mzero_grad()\n\u001b[1;32m     32\u001b[0m loss\u001b[38;5;241m.\u001b[39mbackward()\n\u001b[0;32m---> 33\u001b[0m \u001b[43mopt_cifar\u001b[49m\u001b[38;5;241;43m.\u001b[39;49m\u001b[43mstep\u001b[49m\u001b[43m(\u001b[49m\u001b[43m)\u001b[49m\n\u001b[1;32m     34\u001b[0m loss_storage\u001b[38;5;241m.\u001b[39mappend(loss\u001b[38;5;241m.\u001b[39mitem())\n\u001b[1;32m     35\u001b[0m \u001b[38;5;28;01mif\u001b[39;00m itr \u001b[38;5;241m%\u001b[39m \u001b[38;5;241m100\u001b[39m \u001b[38;5;241m==\u001b[39m \u001b[38;5;241m0\u001b[39m:\n",
      "File \u001b[0;32m/opt/conda/envs/base_env/lib/python3.10/site-packages/torch/optim/optimizer.py:280\u001b[0m, in \u001b[0;36mOptimizer.profile_hook_step.<locals>.wrapper\u001b[0;34m(*args, **kwargs)\u001b[0m\n\u001b[1;32m    276\u001b[0m         \u001b[38;5;28;01melse\u001b[39;00m:\n\u001b[1;32m    277\u001b[0m             \u001b[38;5;28;01mraise\u001b[39;00m \u001b[38;5;167;01mRuntimeError\u001b[39;00m(\u001b[38;5;124mf\u001b[39m\u001b[38;5;124m\"\u001b[39m\u001b[38;5;132;01m{\u001b[39;00mfunc\u001b[38;5;132;01m}\u001b[39;00m\u001b[38;5;124m must return None or a tuple of (new_args, new_kwargs),\u001b[39m\u001b[38;5;124m\"\u001b[39m\n\u001b[1;32m    278\u001b[0m                                \u001b[38;5;124mf\u001b[39m\u001b[38;5;124m\"\u001b[39m\u001b[38;5;124mbut got \u001b[39m\u001b[38;5;132;01m{\u001b[39;00mresult\u001b[38;5;132;01m}\u001b[39;00m\u001b[38;5;124m.\u001b[39m\u001b[38;5;124m\"\u001b[39m)\n\u001b[0;32m--> 280\u001b[0m out \u001b[38;5;241m=\u001b[39m \u001b[43mfunc\u001b[49m\u001b[43m(\u001b[49m\u001b[38;5;241;43m*\u001b[39;49m\u001b[43margs\u001b[49m\u001b[43m,\u001b[49m\u001b[43m \u001b[49m\u001b[38;5;241;43m*\u001b[39;49m\u001b[38;5;241;43m*\u001b[39;49m\u001b[43mkwargs\u001b[49m\u001b[43m)\u001b[49m\n\u001b[1;32m    281\u001b[0m \u001b[38;5;28mself\u001b[39m\u001b[38;5;241m.\u001b[39m_optimizer_step_code()\n\u001b[1;32m    283\u001b[0m \u001b[38;5;66;03m# call optimizer step post hooks\u001b[39;00m\n",
      "File \u001b[0;32m/opt/conda/envs/base_env/lib/python3.10/site-packages/torch/optim/optimizer.py:33\u001b[0m, in \u001b[0;36m_use_grad_for_differentiable.<locals>._use_grad\u001b[0;34m(self, *args, **kwargs)\u001b[0m\n\u001b[1;32m     31\u001b[0m \u001b[38;5;28;01mtry\u001b[39;00m:\n\u001b[1;32m     32\u001b[0m     torch\u001b[38;5;241m.\u001b[39mset_grad_enabled(\u001b[38;5;28mself\u001b[39m\u001b[38;5;241m.\u001b[39mdefaults[\u001b[38;5;124m'\u001b[39m\u001b[38;5;124mdifferentiable\u001b[39m\u001b[38;5;124m'\u001b[39m])\n\u001b[0;32m---> 33\u001b[0m     ret \u001b[38;5;241m=\u001b[39m \u001b[43mfunc\u001b[49m\u001b[43m(\u001b[49m\u001b[38;5;28;43mself\u001b[39;49m\u001b[43m,\u001b[49m\u001b[43m \u001b[49m\u001b[38;5;241;43m*\u001b[39;49m\u001b[43margs\u001b[49m\u001b[43m,\u001b[49m\u001b[43m \u001b[49m\u001b[38;5;241;43m*\u001b[39;49m\u001b[38;5;241;43m*\u001b[39;49m\u001b[43mkwargs\u001b[49m\u001b[43m)\u001b[49m\n\u001b[1;32m     34\u001b[0m \u001b[38;5;28;01mfinally\u001b[39;00m:\n\u001b[1;32m     35\u001b[0m     torch\u001b[38;5;241m.\u001b[39mset_grad_enabled(prev_grad)\n",
      "File \u001b[0;32m/opt/conda/envs/base_env/lib/python3.10/site-packages/torch/optim/adamw.py:171\u001b[0m, in \u001b[0;36mAdamW.step\u001b[0;34m(self, closure)\u001b[0m\n\u001b[1;32m    158\u001b[0m     beta1, beta2 \u001b[38;5;241m=\u001b[39m group[\u001b[38;5;124m\"\u001b[39m\u001b[38;5;124mbetas\u001b[39m\u001b[38;5;124m\"\u001b[39m]\n\u001b[1;32m    160\u001b[0m     \u001b[38;5;28mself\u001b[39m\u001b[38;5;241m.\u001b[39m_init_group(\n\u001b[1;32m    161\u001b[0m         group,\n\u001b[1;32m    162\u001b[0m         params_with_grad,\n\u001b[0;32m   (...)\u001b[0m\n\u001b[1;32m    168\u001b[0m         state_steps,\n\u001b[1;32m    169\u001b[0m     )\n\u001b[0;32m--> 171\u001b[0m     \u001b[43madamw\u001b[49m\u001b[43m(\u001b[49m\n\u001b[1;32m    172\u001b[0m \u001b[43m        \u001b[49m\u001b[43mparams_with_grad\u001b[49m\u001b[43m,\u001b[49m\n\u001b[1;32m    173\u001b[0m \u001b[43m        \u001b[49m\u001b[43mgrads\u001b[49m\u001b[43m,\u001b[49m\n\u001b[1;32m    174\u001b[0m \u001b[43m        \u001b[49m\u001b[43mexp_avgs\u001b[49m\u001b[43m,\u001b[49m\n\u001b[1;32m    175\u001b[0m \u001b[43m        \u001b[49m\u001b[43mexp_avg_sqs\u001b[49m\u001b[43m,\u001b[49m\n\u001b[1;32m    176\u001b[0m \u001b[43m        \u001b[49m\u001b[43mmax_exp_avg_sqs\u001b[49m\u001b[43m,\u001b[49m\n\u001b[1;32m    177\u001b[0m \u001b[43m        \u001b[49m\u001b[43mstate_steps\u001b[49m\u001b[43m,\u001b[49m\n\u001b[1;32m    178\u001b[0m \u001b[43m        \u001b[49m\u001b[43mamsgrad\u001b[49m\u001b[38;5;241;43m=\u001b[39;49m\u001b[43mamsgrad\u001b[49m\u001b[43m,\u001b[49m\n\u001b[1;32m    179\u001b[0m \u001b[43m        \u001b[49m\u001b[43mbeta1\u001b[49m\u001b[38;5;241;43m=\u001b[39;49m\u001b[43mbeta1\u001b[49m\u001b[43m,\u001b[49m\n\u001b[1;32m    180\u001b[0m \u001b[43m        \u001b[49m\u001b[43mbeta2\u001b[49m\u001b[38;5;241;43m=\u001b[39;49m\u001b[43mbeta2\u001b[49m\u001b[43m,\u001b[49m\n\u001b[1;32m    181\u001b[0m \u001b[43m        \u001b[49m\u001b[43mlr\u001b[49m\u001b[38;5;241;43m=\u001b[39;49m\u001b[43mgroup\u001b[49m\u001b[43m[\u001b[49m\u001b[38;5;124;43m\"\u001b[39;49m\u001b[38;5;124;43mlr\u001b[39;49m\u001b[38;5;124;43m\"\u001b[39;49m\u001b[43m]\u001b[49m\u001b[43m,\u001b[49m\n\u001b[1;32m    182\u001b[0m \u001b[43m        \u001b[49m\u001b[43mweight_decay\u001b[49m\u001b[38;5;241;43m=\u001b[39;49m\u001b[43mgroup\u001b[49m\u001b[43m[\u001b[49m\u001b[38;5;124;43m\"\u001b[39;49m\u001b[38;5;124;43mweight_decay\u001b[39;49m\u001b[38;5;124;43m\"\u001b[39;49m\u001b[43m]\u001b[49m\u001b[43m,\u001b[49m\n\u001b[1;32m    183\u001b[0m \u001b[43m        \u001b[49m\u001b[43meps\u001b[49m\u001b[38;5;241;43m=\u001b[39;49m\u001b[43mgroup\u001b[49m\u001b[43m[\u001b[49m\u001b[38;5;124;43m\"\u001b[39;49m\u001b[38;5;124;43meps\u001b[39;49m\u001b[38;5;124;43m\"\u001b[39;49m\u001b[43m]\u001b[49m\u001b[43m,\u001b[49m\n\u001b[1;32m    184\u001b[0m \u001b[43m        \u001b[49m\u001b[43mmaximize\u001b[49m\u001b[38;5;241;43m=\u001b[39;49m\u001b[43mgroup\u001b[49m\u001b[43m[\u001b[49m\u001b[38;5;124;43m\"\u001b[39;49m\u001b[38;5;124;43mmaximize\u001b[39;49m\u001b[38;5;124;43m\"\u001b[39;49m\u001b[43m]\u001b[49m\u001b[43m,\u001b[49m\n\u001b[1;32m    185\u001b[0m \u001b[43m        \u001b[49m\u001b[43mforeach\u001b[49m\u001b[38;5;241;43m=\u001b[39;49m\u001b[43mgroup\u001b[49m\u001b[43m[\u001b[49m\u001b[38;5;124;43m\"\u001b[39;49m\u001b[38;5;124;43mforeach\u001b[39;49m\u001b[38;5;124;43m\"\u001b[39;49m\u001b[43m]\u001b[49m\u001b[43m,\u001b[49m\n\u001b[1;32m    186\u001b[0m \u001b[43m        \u001b[49m\u001b[43mcapturable\u001b[49m\u001b[38;5;241;43m=\u001b[39;49m\u001b[43mgroup\u001b[49m\u001b[43m[\u001b[49m\u001b[38;5;124;43m\"\u001b[39;49m\u001b[38;5;124;43mcapturable\u001b[39;49m\u001b[38;5;124;43m\"\u001b[39;49m\u001b[43m]\u001b[49m\u001b[43m,\u001b[49m\n\u001b[1;32m    187\u001b[0m \u001b[43m        \u001b[49m\u001b[43mdifferentiable\u001b[49m\u001b[38;5;241;43m=\u001b[39;49m\u001b[43mgroup\u001b[49m\u001b[43m[\u001b[49m\u001b[38;5;124;43m\"\u001b[39;49m\u001b[38;5;124;43mdifferentiable\u001b[39;49m\u001b[38;5;124;43m\"\u001b[39;49m\u001b[43m]\u001b[49m\u001b[43m,\u001b[49m\n\u001b[1;32m    188\u001b[0m \u001b[43m        \u001b[49m\u001b[43mfused\u001b[49m\u001b[38;5;241;43m=\u001b[39;49m\u001b[43mgroup\u001b[49m\u001b[43m[\u001b[49m\u001b[38;5;124;43m\"\u001b[39;49m\u001b[38;5;124;43mfused\u001b[39;49m\u001b[38;5;124;43m\"\u001b[39;49m\u001b[43m]\u001b[49m\u001b[43m,\u001b[49m\n\u001b[1;32m    189\u001b[0m \u001b[43m        \u001b[49m\u001b[43mgrad_scale\u001b[49m\u001b[38;5;241;43m=\u001b[39;49m\u001b[38;5;28;43mgetattr\u001b[39;49m\u001b[43m(\u001b[49m\u001b[38;5;28;43mself\u001b[39;49m\u001b[43m,\u001b[49m\u001b[43m \u001b[49m\u001b[38;5;124;43m\"\u001b[39;49m\u001b[38;5;124;43mgrad_scale\u001b[39;49m\u001b[38;5;124;43m\"\u001b[39;49m\u001b[43m,\u001b[49m\u001b[43m \u001b[49m\u001b[38;5;28;43;01mNone\u001b[39;49;00m\u001b[43m)\u001b[49m\u001b[43m,\u001b[49m\n\u001b[1;32m    190\u001b[0m \u001b[43m        \u001b[49m\u001b[43mfound_inf\u001b[49m\u001b[38;5;241;43m=\u001b[39;49m\u001b[38;5;28;43mgetattr\u001b[39;49m\u001b[43m(\u001b[49m\u001b[38;5;28;43mself\u001b[39;49m\u001b[43m,\u001b[49m\u001b[43m \u001b[49m\u001b[38;5;124;43m\"\u001b[39;49m\u001b[38;5;124;43mfound_inf\u001b[39;49m\u001b[38;5;124;43m\"\u001b[39;49m\u001b[43m,\u001b[49m\u001b[43m \u001b[49m\u001b[38;5;28;43;01mNone\u001b[39;49;00m\u001b[43m)\u001b[49m\u001b[43m,\u001b[49m\n\u001b[1;32m    191\u001b[0m \u001b[43m    \u001b[49m\u001b[43m)\u001b[49m\n\u001b[1;32m    193\u001b[0m \u001b[38;5;28;01mreturn\u001b[39;00m loss\n",
      "File \u001b[0;32m/opt/conda/envs/base_env/lib/python3.10/site-packages/torch/optim/adamw.py:321\u001b[0m, in \u001b[0;36madamw\u001b[0;34m(params, grads, exp_avgs, exp_avg_sqs, max_exp_avg_sqs, state_steps, foreach, capturable, differentiable, fused, grad_scale, found_inf, amsgrad, beta1, beta2, lr, weight_decay, eps, maximize)\u001b[0m\n\u001b[1;32m    318\u001b[0m \u001b[38;5;28;01melse\u001b[39;00m:\n\u001b[1;32m    319\u001b[0m     func \u001b[38;5;241m=\u001b[39m _single_tensor_adamw\n\u001b[0;32m--> 321\u001b[0m \u001b[43mfunc\u001b[49m\u001b[43m(\u001b[49m\n\u001b[1;32m    322\u001b[0m \u001b[43m    \u001b[49m\u001b[43mparams\u001b[49m\u001b[43m,\u001b[49m\n\u001b[1;32m    323\u001b[0m \u001b[43m    \u001b[49m\u001b[43mgrads\u001b[49m\u001b[43m,\u001b[49m\n\u001b[1;32m    324\u001b[0m \u001b[43m    \u001b[49m\u001b[43mexp_avgs\u001b[49m\u001b[43m,\u001b[49m\n\u001b[1;32m    325\u001b[0m \u001b[43m    \u001b[49m\u001b[43mexp_avg_sqs\u001b[49m\u001b[43m,\u001b[49m\n\u001b[1;32m    326\u001b[0m \u001b[43m    \u001b[49m\u001b[43mmax_exp_avg_sqs\u001b[49m\u001b[43m,\u001b[49m\n\u001b[1;32m    327\u001b[0m \u001b[43m    \u001b[49m\u001b[43mstate_steps\u001b[49m\u001b[43m,\u001b[49m\n\u001b[1;32m    328\u001b[0m \u001b[43m    \u001b[49m\u001b[43mamsgrad\u001b[49m\u001b[38;5;241;43m=\u001b[39;49m\u001b[43mamsgrad\u001b[49m\u001b[43m,\u001b[49m\n\u001b[1;32m    329\u001b[0m \u001b[43m    \u001b[49m\u001b[43mbeta1\u001b[49m\u001b[38;5;241;43m=\u001b[39;49m\u001b[43mbeta1\u001b[49m\u001b[43m,\u001b[49m\n\u001b[1;32m    330\u001b[0m \u001b[43m    \u001b[49m\u001b[43mbeta2\u001b[49m\u001b[38;5;241;43m=\u001b[39;49m\u001b[43mbeta2\u001b[49m\u001b[43m,\u001b[49m\n\u001b[1;32m    331\u001b[0m \u001b[43m    \u001b[49m\u001b[43mlr\u001b[49m\u001b[38;5;241;43m=\u001b[39;49m\u001b[43mlr\u001b[49m\u001b[43m,\u001b[49m\n\u001b[1;32m    332\u001b[0m \u001b[43m    \u001b[49m\u001b[43mweight_decay\u001b[49m\u001b[38;5;241;43m=\u001b[39;49m\u001b[43mweight_decay\u001b[49m\u001b[43m,\u001b[49m\n\u001b[1;32m    333\u001b[0m \u001b[43m    \u001b[49m\u001b[43meps\u001b[49m\u001b[38;5;241;43m=\u001b[39;49m\u001b[43meps\u001b[49m\u001b[43m,\u001b[49m\n\u001b[1;32m    334\u001b[0m \u001b[43m    \u001b[49m\u001b[43mmaximize\u001b[49m\u001b[38;5;241;43m=\u001b[39;49m\u001b[43mmaximize\u001b[49m\u001b[43m,\u001b[49m\n\u001b[1;32m    335\u001b[0m \u001b[43m    \u001b[49m\u001b[43mcapturable\u001b[49m\u001b[38;5;241;43m=\u001b[39;49m\u001b[43mcapturable\u001b[49m\u001b[43m,\u001b[49m\n\u001b[1;32m    336\u001b[0m \u001b[43m    \u001b[49m\u001b[43mdifferentiable\u001b[49m\u001b[38;5;241;43m=\u001b[39;49m\u001b[43mdifferentiable\u001b[49m\u001b[43m,\u001b[49m\n\u001b[1;32m    337\u001b[0m \u001b[43m    \u001b[49m\u001b[43mgrad_scale\u001b[49m\u001b[38;5;241;43m=\u001b[39;49m\u001b[43mgrad_scale\u001b[49m\u001b[43m,\u001b[49m\n\u001b[1;32m    338\u001b[0m \u001b[43m    \u001b[49m\u001b[43mfound_inf\u001b[49m\u001b[38;5;241;43m=\u001b[39;49m\u001b[43mfound_inf\u001b[49m\u001b[43m,\u001b[49m\n\u001b[1;32m    339\u001b[0m \u001b[43m\u001b[49m\u001b[43m)\u001b[49m\n",
      "File \u001b[0;32m/opt/conda/envs/base_env/lib/python3.10/site-packages/torch/optim/adamw.py:503\u001b[0m, in \u001b[0;36m_multi_tensor_adamw\u001b[0;34m(params, grads, exp_avgs, exp_avg_sqs, max_exp_avg_sqs, state_steps, grad_scale, found_inf, amsgrad, beta1, beta2, lr, weight_decay, eps, maximize, capturable, differentiable)\u001b[0m\n\u001b[1;32m    500\u001b[0m torch\u001b[38;5;241m.\u001b[39m_foreach_add_(device_exp_avgs, device_grads, alpha\u001b[38;5;241m=\u001b[39m\u001b[38;5;241m1\u001b[39m \u001b[38;5;241m-\u001b[39m beta1)\n\u001b[1;32m    502\u001b[0m torch\u001b[38;5;241m.\u001b[39m_foreach_mul_(device_exp_avg_sqs, beta2)\n\u001b[0;32m--> 503\u001b[0m \u001b[43mtorch\u001b[49m\u001b[38;5;241;43m.\u001b[39;49m\u001b[43m_foreach_addcmul_\u001b[49m\u001b[43m(\u001b[49m\u001b[43mdevice_exp_avg_sqs\u001b[49m\u001b[43m,\u001b[49m\u001b[43m \u001b[49m\u001b[43mdevice_grads\u001b[49m\u001b[43m,\u001b[49m\u001b[43m \u001b[49m\u001b[43mdevice_grads\u001b[49m\u001b[43m,\u001b[49m\u001b[43m \u001b[49m\u001b[38;5;241;43m1\u001b[39;49m\u001b[43m \u001b[49m\u001b[38;5;241;43m-\u001b[39;49m\u001b[43m \u001b[49m\u001b[43mbeta2\u001b[49m\u001b[43m)\u001b[49m\n\u001b[1;32m    505\u001b[0m \u001b[38;5;28;01mif\u001b[39;00m capturable:\n\u001b[1;32m    506\u001b[0m     \u001b[38;5;66;03m# TODO: use foreach_pow if/when foreach_pow is added\u001b[39;00m\n\u001b[1;32m    507\u001b[0m     bias_correction1 \u001b[38;5;241m=\u001b[39m [torch\u001b[38;5;241m.\u001b[39mpow(beta1, step) \u001b[38;5;28;01mfor\u001b[39;00m step \u001b[38;5;129;01min\u001b[39;00m device_state_steps]\n",
      "\u001b[0;31mKeyboardInterrupt\u001b[0m: "
     ]
    }
   ],
   "source": [
    "from utils import unpaint_center\n",
    "\n",
    "\n",
    "def unpaint_center(images, mask_size=0.5):\n",
    "    img_size = images.shape[-1]\n",
    "    mask = torch.ones_like(images)\n",
    "    mask[:, :, int(mask_size / 2 * img_size):img_size - int(mask_size / 2 * img_size), int(mask_size / 2 * img_size):img_size - int(mask_size / 2 * img_size)] = 0\n",
    "    return torch.mul(images, mask)\n",
    "\n",
    "transform = tforms.Compose(\n",
    "    [tforms.ToTensor(),\n",
    "     tforms.Normalize((0.5, 0.5, 0.5), (0.5, 0.5, 0.5))])\n",
    "\n",
    "trainset_cifar = torchvision.datasets.CIFAR10(root='./data', train=True,\n",
    "                                        download=True, transform=transform)\n",
    "trainloader_cifar = torch.utils.data.DataLoader(trainset_cifar, batch_size=batch_size,\n",
    "                                          shuffle=True, num_workers=2, drop_last=True)\n",
    "\n",
    "n_epochs = 30\n",
    "loss_storage = []\n",
    "\n",
    "for epoch in range(n_epochs):\n",
    "    for itr, item in enumerate(iter(trainloader_cifar)):\n",
    "        x_1, y = item\n",
    "        x_0 = unpaint_center(x_1)\n",
    "        x_0, x_1 = x_0.to(device), x_1.to(device)\n",
    "#         x0, x1 = create_pairs_OT(x_0, x_1)\n",
    "        t = torch.rand(batch_size).to(device)\n",
    "        loss = fm_model_cifar.step(x_0, x_1, t)\n",
    "\n",
    "        opt_cifar.zero_grad()\n",
    "        loss.backward()\n",
    "        opt_cifar.step()\n",
    "        loss_storage.append(loss.item())\n",
    "        if itr % 100 == 0:\n",
    "            print(f'Epoch: {epoch} iter {itr} Loss {torch.mean(torch.tensor(loss_storage[-min(1000, len(loss_storage)):]))}')\n",
    "    #     pbar.set_description(f'Loss: {loss.item()}')\n",
    "    torch.save(fm_model.state_dict(), f'fm_model_cifar_32_ep_{epoch}.pth')\n"
   ]
  },
  {
   "cell_type": "code",
   "execution_count": 77,
   "id": "45fdc297",
   "metadata": {},
   "outputs": [
    {
     "name": "stderr",
     "output_type": "stream",
     "text": [
      "Clipping input data to the valid range for imshow with RGB data ([0..1] for floats or [0..255] for integers).\n"
     ]
    },
    {
     "data": {
      "text/plain": [
       "<matplotlib.image.AxesImage at 0x7f851483d630>"
      ]
     },
     "execution_count": 77,
     "metadata": {},
     "output_type": "execute_result"
    },
    {
     "data": {
      "image/png": "[encoded data removed]",
      "text/plain": [
       "<Figure size 640x480 with 1 Axes>"
      ]
     },
     "metadata": {},
     "output_type": "display_data"
    }
   ],
   "source": [
    "plt.imshow(unpaint_center(next(iter(trainloader_cifar))[0])[0].permute([1, 2, 0]))"
   ]
  },
  {
   "cell_type": "code",
   "execution_count": 85,
   "id": "88e0e89e",
   "metadata": {},
   "outputs": [
    {
     "name": "stderr",
     "output_type": "stream",
     "text": [
      "100%|█████████████████████████████████████████████████████████████████████████████████████████████████████████████████████████████████████████████████████████████████████████| 100/100 [00:05<00:00, 19.04it/s]\n",
      "Clipping input data to the valid range for imshow with RGB data ([0..1] for floats or [0..255] for integers).\n",
      "Clipping input data to the valid range for imshow with RGB data ([0..1] for floats or [0..255] for integers).\n"
     ]
    },
    {
     "data": {
      "image/png": "[encoded data removed]",
      "text/plain": [
       "<Figure size 1000x400 with 2 Axes>"
      ]
     },
     "metadata": {},
     "output_type": "display_data"
    }
   ],
   "source": [
    "fm_model.load_state_dict(torch.load('fm_model_cifar_32_ep_2.pth'))\n",
    "sample_regular_mnist = unpaint_center(next(iter(trainloader_cifar))[0])\n",
    "display_cond_generation(fm_model_cifar, sample_regular_mnist.to(device))"
   ]
  },
  {
   "cell_type": "code",
   "execution_count": null,
   "id": "f25c54fb",
   "metadata": {},
   "outputs": [],
   "source": []
  }
 ],
 "metadata": {
  "kernelspec": {
   "display_name": "Python 3 (ipykernel)",
   "language": "python",
   "name": "python3"
  },
  "language_info": {
   "codemirror_mode": {
    "name": "ipython",
    "version": 3
   },
   "file_extension": ".py",
   "mimetype": "text/x-python",
   "name": "python",
   "nbconvert_exporter": "python",
   "pygments_lexer": "ipython3",
   "version": "3.10.10"
  }
 },
 "nbformat": 4,
 "nbformat_minor": 5
}
